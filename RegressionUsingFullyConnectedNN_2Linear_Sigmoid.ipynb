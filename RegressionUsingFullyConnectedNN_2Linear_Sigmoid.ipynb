{
 "cells": [
  {
   "cell_type": "code",
   "execution_count": 1,
   "id": "99fda1da-b1e0-4db1-a3cd-6a12c220e3d4",
   "metadata": {},
   "outputs": [],
   "source": [
    "import torch\n",
    "import hiddenlayer as hl\n",
    "\n",
    "import pandas as pd\n",
    "import numpy as np\n",
    "\n",
    "import seaborn as sns\n",
    "import matplotlib.pyplot as plt\n",
    "\n",
    "import sklearn"
   ]
  },
  {
   "cell_type": "code",
   "execution_count": 2,
   "id": "ef1ebc2d-5499-48c5-a294-5a556b9328a1",
   "metadata": {},
   "outputs": [],
   "source": [
    "data = pd.read_csv(\"/mnt/g/onlinelessons/deep learning/dataset/bike-sharing-demand/bike_sharing.csv\", index_col=0)"
   ]
  },
  {
   "cell_type": "code",
   "execution_count": 3,
   "id": "f85762c4-0cc8-4069-94e0-3888de351b57",
   "metadata": {},
   "outputs": [
    {
     "data": {
      "text/html": [
       "<div>\n",
       "<style scoped>\n",
       "    .dataframe tbody tr th:only-of-type {\n",
       "        vertical-align: middle;\n",
       "    }\n",
       "\n",
       "    .dataframe tbody tr th {\n",
       "        vertical-align: top;\n",
       "    }\n",
       "\n",
       "    .dataframe thead th {\n",
       "        text-align: right;\n",
       "    }\n",
       "</style>\n",
       "<table border=\"1\" class=\"dataframe\">\n",
       "  <thead>\n",
       "    <tr style=\"text-align: right;\">\n",
       "      <th></th>\n",
       "      <th>dteday</th>\n",
       "      <th>season</th>\n",
       "      <th>yr</th>\n",
       "      <th>mnth</th>\n",
       "      <th>holiday</th>\n",
       "      <th>weekday</th>\n",
       "      <th>workingday</th>\n",
       "      <th>weathersit</th>\n",
       "      <th>temp</th>\n",
       "      <th>atemp</th>\n",
       "      <th>hum</th>\n",
       "      <th>windspeed</th>\n",
       "      <th>casual</th>\n",
       "      <th>registered</th>\n",
       "      <th>cnt</th>\n",
       "    </tr>\n",
       "    <tr>\n",
       "      <th>instant</th>\n",
       "      <th></th>\n",
       "      <th></th>\n",
       "      <th></th>\n",
       "      <th></th>\n",
       "      <th></th>\n",
       "      <th></th>\n",
       "      <th></th>\n",
       "      <th></th>\n",
       "      <th></th>\n",
       "      <th></th>\n",
       "      <th></th>\n",
       "      <th></th>\n",
       "      <th></th>\n",
       "      <th></th>\n",
       "      <th></th>\n",
       "    </tr>\n",
       "  </thead>\n",
       "  <tbody>\n",
       "    <tr>\n",
       "      <th>322</th>\n",
       "      <td>18-11-2018</td>\n",
       "      <td>4</td>\n",
       "      <td>0</td>\n",
       "      <td>11</td>\n",
       "      <td>0</td>\n",
       "      <td>5</td>\n",
       "      <td>1</td>\n",
       "      <td>1</td>\n",
       "      <td>11.240847</td>\n",
       "      <td>13.63605</td>\n",
       "      <td>41.0000</td>\n",
       "      <td>11.291711</td>\n",
       "      <td>245</td>\n",
       "      <td>3147</td>\n",
       "      <td>3392</td>\n",
       "    </tr>\n",
       "    <tr>\n",
       "      <th>543</th>\n",
       "      <td>27-06-2019</td>\n",
       "      <td>3</td>\n",
       "      <td>1</td>\n",
       "      <td>6</td>\n",
       "      <td>0</td>\n",
       "      <td>3</td>\n",
       "      <td>1</td>\n",
       "      <td>1</td>\n",
       "      <td>28.597500</td>\n",
       "      <td>32.03960</td>\n",
       "      <td>36.0000</td>\n",
       "      <td>18.208925</td>\n",
       "      <td>1077</td>\n",
       "      <td>6258</td>\n",
       "      <td>7335</td>\n",
       "    </tr>\n",
       "    <tr>\n",
       "      <th>607</th>\n",
       "      <td>30-08-2019</td>\n",
       "      <td>3</td>\n",
       "      <td>1</td>\n",
       "      <td>8</td>\n",
       "      <td>0</td>\n",
       "      <td>4</td>\n",
       "      <td>1</td>\n",
       "      <td>1</td>\n",
       "      <td>28.973347</td>\n",
       "      <td>32.63895</td>\n",
       "      <td>59.0417</td>\n",
       "      <td>5.166819</td>\n",
       "      <td>1172</td>\n",
       "      <td>6541</td>\n",
       "      <td>7713</td>\n",
       "    </tr>\n",
       "    <tr>\n",
       "      <th>571</th>\n",
       "      <td>25-07-2019</td>\n",
       "      <td>3</td>\n",
       "      <td>1</td>\n",
       "      <td>7</td>\n",
       "      <td>0</td>\n",
       "      <td>3</td>\n",
       "      <td>1</td>\n",
       "      <td>1</td>\n",
       "      <td>29.690847</td>\n",
       "      <td>32.70270</td>\n",
       "      <td>45.0000</td>\n",
       "      <td>11.041600</td>\n",
       "      <td>1383</td>\n",
       "      <td>6790</td>\n",
       "      <td>8173</td>\n",
       "    </tr>\n",
       "    <tr>\n",
       "      <th>81</th>\n",
       "      <td>22-03-2018</td>\n",
       "      <td>2</td>\n",
       "      <td>0</td>\n",
       "      <td>3</td>\n",
       "      <td>0</td>\n",
       "      <td>2</td>\n",
       "      <td>1</td>\n",
       "      <td>1</td>\n",
       "      <td>18.108347</td>\n",
       "      <td>22.03210</td>\n",
       "      <td>62.4583</td>\n",
       "      <td>15.125250</td>\n",
       "      <td>460</td>\n",
       "      <td>2243</td>\n",
       "      <td>2703</td>\n",
       "    </tr>\n",
       "  </tbody>\n",
       "</table>\n",
       "</div>"
      ],
      "text/plain": [
       "             dteday  season  yr  mnth  holiday  weekday  workingday  \\\n",
       "instant                                                               \n",
       "322      18-11-2018       4   0    11        0        5           1   \n",
       "543      27-06-2019       3   1     6        0        3           1   \n",
       "607      30-08-2019       3   1     8        0        4           1   \n",
       "571      25-07-2019       3   1     7        0        3           1   \n",
       "81       22-03-2018       2   0     3        0        2           1   \n",
       "\n",
       "         weathersit       temp     atemp      hum  windspeed  casual  \\\n",
       "instant                                                                \n",
       "322               1  11.240847  13.63605  41.0000  11.291711     245   \n",
       "543               1  28.597500  32.03960  36.0000  18.208925    1077   \n",
       "607               1  28.973347  32.63895  59.0417   5.166819    1172   \n",
       "571               1  29.690847  32.70270  45.0000  11.041600    1383   \n",
       "81                1  18.108347  22.03210  62.4583  15.125250     460   \n",
       "\n",
       "         registered   cnt  \n",
       "instant                    \n",
       "322            3147  3392  \n",
       "543            6258  7335  \n",
       "607            6541  7713  \n",
       "571            6790  8173  \n",
       "81             2243  2703  "
      ]
     },
     "execution_count": 3,
     "metadata": {},
     "output_type": "execute_result"
    }
   ],
   "source": [
    "data.sample(5)"
   ]
  },
  {
   "cell_type": "code",
   "execution_count": 4,
   "id": "746444bc-6331-4787-b8f1-f6a02f0d1c01",
   "metadata": {},
   "outputs": [
    {
     "data": {
      "text/plain": [
       "(730, 15)"
      ]
     },
     "execution_count": 4,
     "metadata": {},
     "output_type": "execute_result"
    }
   ],
   "source": [
    "data.shape"
   ]
  },
  {
   "cell_type": "code",
   "execution_count": 5,
   "id": "66622904-47be-4a96-9362-645052b12fdd",
   "metadata": {},
   "outputs": [
    {
     "data": {
      "text/plain": [
       "Text(0.5, 1.0, 'number of bikes rented per season')"
      ]
     },
     "execution_count": 5,
     "metadata": {},
     "output_type": "execute_result"
    },
    {
     "data": {
      "image/png": "[encoded data removed]",
      "text/plain": [
       "<Figure size 600x600 with 1 Axes>"
      ]
     },
     "metadata": {},
     "output_type": "display_data"
    }
   ],
   "source": [
    "plt.figure(figsize=(6,6))\n",
    "sns.barplot(x='yr', y='cnt', hue='season', data=data, errorbar=None)\n",
    "\n",
    "plt.legend(loc='upper right', bbox_to_anchor=(1.2, 0.5))\n",
    "            \n",
    "plt.xlabel('year') \n",
    "plt.ylabel(\"Total number of bikes rented\")\n",
    "            \n",
    "plt.title(\"number of bikes rented per season\")"
   ]
  },
  {
   "cell_type": "code",
   "execution_count": 6,
   "id": "016a5187-4a7c-45e9-b264-54b3466ed8b1",
   "metadata": {},
   "outputs": [
    {
     "data": {
      "image/png": "[encoded data removed]",
      "text/plain": [
       "<Figure size 600x600 with 1 Axes>"
      ]
     },
     "metadata": {},
     "output_type": "display_data"
    }
   ],
   "source": [
    "plt.figure(figsize=(6,6))\n",
    "sns.barplot(x='mnth', y='cnt', hue='workingday', data=data)\n",
    "\n",
    "plt.xlabel('month')\n",
    "plt.ylabel('bikes rented')\n",
    "plt.title(\"number of rented bikes per mounth\")\n",
    "\n",
    "plt.show()"
   ]
  },
  {
   "cell_type": "code",
   "execution_count": 7,
   "id": "29365704-df6f-4413-8402-3e08ace76214",
   "metadata": {},
   "outputs": [
    {
     "data": {
      "text/plain": [
       "Text(0.5, 1.0, 'Effect of temperature on rented bikes')"
      ]
     },
     "execution_count": 7,
     "metadata": {},
     "output_type": "execute_result"
    },
    {
     "data": {
      "image/png": "[encoded data removed]",
      "text/plain": [
       "<Figure size 600x600 with 1 Axes>"
      ]
     },
     "metadata": {},
     "output_type": "display_data"
    }
   ],
   "source": [
    "plt.figure(figsize=(6,6))\n",
    "sns.scatterplot(x='temp', y='cnt', data=data)\n",
    "\n",
    "plt.xlabel(\"Temperature\")\n",
    "plt.ylabel(\"Bikes rented\")\n",
    "\n",
    "plt.title(\"Effect of temperature on rented bikes\")"
   ]
  },
  {
   "cell_type": "code",
   "execution_count": 8,
   "id": "c46e6b32-ae9d-4d45-9760-ba0734f1fc36",
   "metadata": {},
   "outputs": [
    {
     "data": {
      "text/html": [
       "<div>\n",
       "<style scoped>\n",
       "    .dataframe tbody tr th:only-of-type {\n",
       "        vertical-align: middle;\n",
       "    }\n",
       "\n",
       "    .dataframe tbody tr th {\n",
       "        vertical-align: top;\n",
       "    }\n",
       "\n",
       "    .dataframe thead th {\n",
       "        text-align: right;\n",
       "    }\n",
       "</style>\n",
       "<table border=\"1\" class=\"dataframe\">\n",
       "  <thead>\n",
       "    <tr style=\"text-align: right;\">\n",
       "      <th></th>\n",
       "      <th>dteday</th>\n",
       "      <th>yr</th>\n",
       "      <th>mnth</th>\n",
       "      <th>holiday</th>\n",
       "      <th>weekday</th>\n",
       "      <th>workingday</th>\n",
       "      <th>weathersit</th>\n",
       "      <th>temp</th>\n",
       "      <th>atemp</th>\n",
       "      <th>hum</th>\n",
       "      <th>windspeed</th>\n",
       "      <th>casual</th>\n",
       "      <th>registered</th>\n",
       "      <th>cnt</th>\n",
       "      <th>season_1</th>\n",
       "      <th>season_2</th>\n",
       "      <th>season_3</th>\n",
       "      <th>season_4</th>\n",
       "    </tr>\n",
       "    <tr>\n",
       "      <th>instant</th>\n",
       "      <th></th>\n",
       "      <th></th>\n",
       "      <th></th>\n",
       "      <th></th>\n",
       "      <th></th>\n",
       "      <th></th>\n",
       "      <th></th>\n",
       "      <th></th>\n",
       "      <th></th>\n",
       "      <th></th>\n",
       "      <th></th>\n",
       "      <th></th>\n",
       "      <th></th>\n",
       "      <th></th>\n",
       "      <th></th>\n",
       "      <th></th>\n",
       "      <th></th>\n",
       "      <th></th>\n",
       "    </tr>\n",
       "  </thead>\n",
       "  <tbody>\n",
       "    <tr>\n",
       "      <th>666</th>\n",
       "      <td>28-10-2019</td>\n",
       "      <td>1</td>\n",
       "      <td>10</td>\n",
       "      <td>0</td>\n",
       "      <td>0</td>\n",
       "      <td>0</td>\n",
       "      <td>2</td>\n",
       "      <td>19.577500</td>\n",
       "      <td>23.38855</td>\n",
       "      <td>69.4583</td>\n",
       "      <td>26.666536</td>\n",
       "      <td>998</td>\n",
       "      <td>3461</td>\n",
       "      <td>4459</td>\n",
       "      <td>0</td>\n",
       "      <td>0</td>\n",
       "      <td>0</td>\n",
       "      <td>1</td>\n",
       "    </tr>\n",
       "    <tr>\n",
       "      <th>317</th>\n",
       "      <td>13-11-2018</td>\n",
       "      <td>0</td>\n",
       "      <td>11</td>\n",
       "      <td>0</td>\n",
       "      <td>0</td>\n",
       "      <td>0</td>\n",
       "      <td>1</td>\n",
       "      <td>18.074153</td>\n",
       "      <td>21.52750</td>\n",
       "      <td>45.8333</td>\n",
       "      <td>18.875307</td>\n",
       "      <td>1004</td>\n",
       "      <td>2713</td>\n",
       "      <td>3717</td>\n",
       "      <td>0</td>\n",
       "      <td>0</td>\n",
       "      <td>0</td>\n",
       "      <td>1</td>\n",
       "    </tr>\n",
       "    <tr>\n",
       "      <th>499</th>\n",
       "      <td>14-05-2019</td>\n",
       "      <td>1</td>\n",
       "      <td>5</td>\n",
       "      <td>0</td>\n",
       "      <td>1</td>\n",
       "      <td>1</td>\n",
       "      <td>2</td>\n",
       "      <td>23.506653</td>\n",
       "      <td>27.49500</td>\n",
       "      <td>78.9583</td>\n",
       "      <td>14.250364</td>\n",
       "      <td>342</td>\n",
       "      <td>2501</td>\n",
       "      <td>2843</td>\n",
       "      <td>0</td>\n",
       "      <td>1</td>\n",
       "      <td>0</td>\n",
       "      <td>0</td>\n",
       "    </tr>\n",
       "    <tr>\n",
       "      <th>186</th>\n",
       "      <td>05-07-2018</td>\n",
       "      <td>0</td>\n",
       "      <td>7</td>\n",
       "      <td>0</td>\n",
       "      <td>2</td>\n",
       "      <td>1</td>\n",
       "      <td>1</td>\n",
       "      <td>30.613347</td>\n",
       "      <td>34.81690</td>\n",
       "      <td>59.0417</td>\n",
       "      <td>8.459286</td>\n",
       "      <td>1031</td>\n",
       "      <td>3634</td>\n",
       "      <td>4665</td>\n",
       "      <td>0</td>\n",
       "      <td>0</td>\n",
       "      <td>1</td>\n",
       "      <td>0</td>\n",
       "    </tr>\n",
       "    <tr>\n",
       "      <th>164</th>\n",
       "      <td>13-06-2018</td>\n",
       "      <td>0</td>\n",
       "      <td>6</td>\n",
       "      <td>0</td>\n",
       "      <td>1</td>\n",
       "      <td>1</td>\n",
       "      <td>1</td>\n",
       "      <td>26.035000</td>\n",
       "      <td>30.08270</td>\n",
       "      <td>49.4583</td>\n",
       "      <td>20.458450</td>\n",
       "      <td>863</td>\n",
       "      <td>4157</td>\n",
       "      <td>5020</td>\n",
       "      <td>0</td>\n",
       "      <td>1</td>\n",
       "      <td>0</td>\n",
       "      <td>0</td>\n",
       "    </tr>\n",
       "  </tbody>\n",
       "</table>\n",
       "</div>"
      ],
      "text/plain": [
       "             dteday  yr  mnth  holiday  weekday  workingday  weathersit  \\\n",
       "instant                                                                   \n",
       "666      28-10-2019   1    10        0        0           0           2   \n",
       "317      13-11-2018   0    11        0        0           0           1   \n",
       "499      14-05-2019   1     5        0        1           1           2   \n",
       "186      05-07-2018   0     7        0        2           1           1   \n",
       "164      13-06-2018   0     6        0        1           1           1   \n",
       "\n",
       "              temp     atemp      hum  windspeed  casual  registered   cnt  \\\n",
       "instant                                                                      \n",
       "666      19.577500  23.38855  69.4583  26.666536     998        3461  4459   \n",
       "317      18.074153  21.52750  45.8333  18.875307    1004        2713  3717   \n",
       "499      23.506653  27.49500  78.9583  14.250364     342        2501  2843   \n",
       "186      30.613347  34.81690  59.0417   8.459286    1031        3634  4665   \n",
       "164      26.035000  30.08270  49.4583  20.458450     863        4157  5020   \n",
       "\n",
       "         season_1  season_2  season_3  season_4  \n",
       "instant                                          \n",
       "666             0         0         0         1  \n",
       "317             0         0         0         1  \n",
       "499             0         1         0         0  \n",
       "186             0         0         1         0  \n",
       "164             0         1         0         0  "
      ]
     },
     "execution_count": 8,
     "metadata": {},
     "output_type": "execute_result"
    }
   ],
   "source": [
    "data = pd.get_dummies(data, columns=['season'])\n",
    "data.sample(5)"
   ]
  },
  {
   "cell_type": "code",
   "execution_count": 9,
   "id": "b9fceaaf-d498-4531-b167-889cdaa5b3a7",
   "metadata": {},
   "outputs": [
    {
     "data": {
      "text/html": [
       "<div>\n",
       "<style scoped>\n",
       "    .dataframe tbody tr th:only-of-type {\n",
       "        vertical-align: middle;\n",
       "    }\n",
       "\n",
       "    .dataframe tbody tr th {\n",
       "        vertical-align: top;\n",
       "    }\n",
       "\n",
       "    .dataframe thead th {\n",
       "        text-align: right;\n",
       "    }\n",
       "</style>\n",
       "<table border=\"1\" class=\"dataframe\">\n",
       "  <thead>\n",
       "    <tr style=\"text-align: right;\">\n",
       "      <th></th>\n",
       "      <th>cnt</th>\n",
       "    </tr>\n",
       "    <tr>\n",
       "      <th>instant</th>\n",
       "      <th></th>\n",
       "    </tr>\n",
       "  </thead>\n",
       "  <tbody>\n",
       "    <tr>\n",
       "      <th>1</th>\n",
       "      <td>985</td>\n",
       "    </tr>\n",
       "    <tr>\n",
       "      <th>2</th>\n",
       "      <td>801</td>\n",
       "    </tr>\n",
       "    <tr>\n",
       "      <th>3</th>\n",
       "      <td>1349</td>\n",
       "    </tr>\n",
       "    <tr>\n",
       "      <th>4</th>\n",
       "      <td>1562</td>\n",
       "    </tr>\n",
       "    <tr>\n",
       "      <th>5</th>\n",
       "      <td>1600</td>\n",
       "    </tr>\n",
       "    <tr>\n",
       "      <th>...</th>\n",
       "      <td>...</td>\n",
       "    </tr>\n",
       "    <tr>\n",
       "      <th>726</th>\n",
       "      <td>2114</td>\n",
       "    </tr>\n",
       "    <tr>\n",
       "      <th>727</th>\n",
       "      <td>3095</td>\n",
       "    </tr>\n",
       "    <tr>\n",
       "      <th>728</th>\n",
       "      <td>1341</td>\n",
       "    </tr>\n",
       "    <tr>\n",
       "      <th>729</th>\n",
       "      <td>1796</td>\n",
       "    </tr>\n",
       "    <tr>\n",
       "      <th>730</th>\n",
       "      <td>2729</td>\n",
       "    </tr>\n",
       "  </tbody>\n",
       "</table>\n",
       "<p>730 rows × 1 columns</p>\n",
       "</div>"
      ],
      "text/plain": [
       "          cnt\n",
       "instant      \n",
       "1         985\n",
       "2         801\n",
       "3        1349\n",
       "4        1562\n",
       "5        1600\n",
       "...       ...\n",
       "726      2114\n",
       "727      3095\n",
       "728      1341\n",
       "729      1796\n",
       "730      2729\n",
       "\n",
       "[730 rows x 1 columns]"
      ]
     },
     "execution_count": 9,
     "metadata": {},
     "output_type": "execute_result"
    }
   ],
   "source": [
    "feature_columns=['registered', 'holiday', 'weekday',\n",
    "                 'weathersit', 'temp', 'atemp',\n",
    "                 'season_1', 'season_2', 'season_3',\n",
    "                 'season_4']\n",
    "features = data[feature_columns]\n",
    "target = data[['cnt']]\n",
    "target"
   ]
  },
  {
   "cell_type": "code",
   "execution_count": 10,
   "id": "edbc9895-5b1c-42fa-aedf-4a42b779ca03",
   "metadata": {},
   "outputs": [],
   "source": [
    "from sklearn.model_selection import train_test_split"
   ]
  },
  {
   "cell_type": "code",
   "execution_count": 11,
   "id": "fa294c4a-2a7f-4d83-88be-7716da6c11b5",
   "metadata": {},
   "outputs": [],
   "source": [
    "X_train, x_test, Y_train, y_test = train_test_split(features,\n",
    "                                                    target,\n",
    "                                                    test_size=0.2)\n",
    "                                                    "
   ]
  },
  {
   "cell_type": "code",
   "execution_count": 12,
   "id": "a91b965c-761c-4fa4-bb66-d498e5318d94",
   "metadata": {},
   "outputs": [],
   "source": [
    "X_train_tensor = torch.tensor(X_train.values, dtype=torch.float)\n",
    "Y_train_tensor = torch.tensor(Y_train.values, dtype=torch.float)\n",
    "\n",
    "x_test_tensor = torch.tensor(x_test.values, dtype=torch.float)\n",
    "y_test_tensor = torch.tensor(y_test.values, dtype=torch.float)"
   ]
  },
  {
   "cell_type": "code",
   "execution_count": 13,
   "id": "4f4e4df1-38fa-4374-b51a-a858813742aa",
   "metadata": {},
   "outputs": [
    {
     "data": {
      "text/plain": [
       "torch.Size([584, 10])"
      ]
     },
     "execution_count": 13,
     "metadata": {},
     "output_type": "execute_result"
    }
   ],
   "source": [
    "X_train_tensor.shape"
   ]
  },
  {
   "cell_type": "code",
   "execution_count": 14,
   "id": "0f06a37d-7f0a-41b8-9a08-4cce68451e82",
   "metadata": {},
   "outputs": [
    {
     "data": {
      "text/plain": [
       "torch.Size([146, 1])"
      ]
     },
     "execution_count": 14,
     "metadata": {},
     "output_type": "execute_result"
    }
   ],
   "source": [
    "y_test_tensor.shape"
   ]
  },
  {
   "cell_type": "code",
   "execution_count": 15,
   "id": "94c31c11-b75e-4ed6-89ec-1259fa5154a4",
   "metadata": {},
   "outputs": [],
   "source": [
    "import torch.utils.data as data_utils"
   ]
  },
  {
   "cell_type": "code",
   "execution_count": 16,
   "id": "e6c5a95d-1c5d-40e7-b31b-ee0e7fafc06c",
   "metadata": {},
   "outputs": [],
   "source": [
    "train_data = data_utils.TensorDataset(X_train_tensor, Y_train_tensor)"
   ]
  },
  {
   "cell_type": "code",
   "execution_count": 17,
   "id": "ef1f3702-8b87-4591-b9d3-81696513323d",
   "metadata": {},
   "outputs": [],
   "source": [
    "train_loader = data_utils.DataLoader(train_data, batch_size=100, shuffle=True)"
   ]
  },
  {
   "cell_type": "code",
   "execution_count": 18,
   "id": "afcb1e01-de9f-4687-89ce-0008e964d04d",
   "metadata": {},
   "outputs": [
    {
     "data": {
      "text/plain": [
       "6"
      ]
     },
     "execution_count": 18,
     "metadata": {},
     "output_type": "execute_result"
    }
   ],
   "source": [
    "len(train_loader)"
   ]
  },
  {
   "cell_type": "code",
   "execution_count": 19,
   "id": "ab201bf6-37bd-4ce1-99ca-d943a127c13c",
   "metadata": {},
   "outputs": [],
   "source": [
    "features_batch, targets_batch = next(iter(train_loader))"
   ]
  },
  {
   "cell_type": "code",
   "execution_count": 20,
   "id": "e32be457-ac76-40d8-8295-3f4f29639055",
   "metadata": {},
   "outputs": [
    {
     "data": {
      "text/plain": [
       "torch.Size([100, 10])"
      ]
     },
     "execution_count": 20,
     "metadata": {},
     "output_type": "execute_result"
    }
   ],
   "source": [
    "features_batch.shape"
   ]
  },
  {
   "cell_type": "code",
   "execution_count": 21,
   "id": "8579a980-74e6-4780-abf1-2c14b2ecff2a",
   "metadata": {},
   "outputs": [
    {
     "data": {
      "text/plain": [
       "torch.Size([100, 1])"
      ]
     },
     "execution_count": 21,
     "metadata": {},
     "output_type": "execute_result"
    }
   ],
   "source": [
    "targets_batch.shape"
   ]
  },
  {
   "cell_type": "code",
   "execution_count": 22,
   "id": "02fce680-4405-4611-a69d-74d4219c768f",
   "metadata": {},
   "outputs": [],
   "source": [
    "input_size = X_train_tensor.shape[1]\n",
    "output_size = 1\n",
    "hidden_layer_size = 10"
   ]
  },
  {
   "cell_type": "code",
   "execution_count": 23,
   "id": "d2521af4-e6f7-4119-8e51-8cb072c5ed6b",
   "metadata": {},
   "outputs": [],
   "source": [
    "loss_fn = torch.nn.MSELoss()"
   ]
  },
  {
   "cell_type": "code",
   "execution_count": 24,
   "id": "aa63023a-62e8-4aa7-96ed-0e96f88f8998",
   "metadata": {},
   "outputs": [],
   "source": [
    "model = torch.nn.Sequential(torch.nn.Linear(input_size, hidden_layer_size),\n",
    "                            torch.nn.Sigmoid(),\n",
    "                            torch.nn.Linear(hidden_layer_size, output_size))"
   ]
  },
  {
   "cell_type": "code",
   "execution_count": 25,
   "id": "756cc058-d2ad-4c21-8a57-554fd1101ff7",
   "metadata": {},
   "outputs": [
    {
     "name": "stderr",
     "output_type": "stream",
     "text": [
      "/home/ghostoftime111/anaconda3/envs/DP/lib/python3.10/site-packages/hiddenlayer/pytorch_builder.py:82: FutureWarning: 'torch.onnx._patch_torch._node_getitem' is deprecated in version 1.13 and will be removed in version 1.14. Please Internally use '_node_get' in symbolic_helper instead..\n",
      "  params = {k: torch_node[k] for k in torch_node.attributeNames()}\n"
     ]
    },
    {
     "data": {
      "image/svg+xml": [
       "<?xml version=\"1.0\" encoding=\"UTF-8\" standalone=\"no\"?>\n",
       "<!DOCTYPE svg PUBLIC \"-//W3C//DTD SVG 1.1//EN\"\n",
       " \"http://www.w3.org/Graphics/SVG/1.1/DTD/svg11.dtd\">\n",
       "<!-- Generated by graphviz version 2.43.0 (0)\n",
       " -->\n",
       "<!-- Title: %3 Pages: 1 -->\n",
       "<svg width=\"378pt\" height=\"108pt\"\n",
       " viewBox=\"0.00 0.00 378.00 108.00\" xmlns=\"http://www.w3.org/2000/svg\" xmlns:xlink=\"http://www.w3.org/1999/xlink\">\n",
       "<g id=\"graph0\" class=\"graph\" transform=\"scale(1 1) rotate(0) translate(72 72)\">\n",
       "<title>%3</title>\n",
       "<polygon fill=\"#ffffff\" stroke=\"transparent\" points=\"-72,36 -72,-72 306,-72 306,36 -72,36\"/>\n",
       "<!-- /outputs/5 -->\n",
       "<g id=\"node1\" class=\"node\">\n",
       "<title>/outputs/5</title>\n",
       "<polygon fill=\"#e8e8e8\" stroke=\"#000000\" points=\"54,-36 0,-36 0,0 54,0 54,-36\"/>\n",
       "<text text-anchor=\"start\" x=\"14\" y=\"-15\" font-family=\"Times\" font-size=\"10.00\" fill=\"#000000\">Linear</text>\n",
       "</g>\n",
       "<!-- /outputs/6 -->\n",
       "<g id=\"node2\" class=\"node\">\n",
       "<title>/outputs/6</title>\n",
       "<polygon fill=\"#e8e8e8\" stroke=\"#000000\" points=\"144,-36 90,-36 90,0 144,0 144,-36\"/>\n",
       "<text text-anchor=\"start\" x=\"100\" y=\"-15\" font-family=\"Times\" font-size=\"10.00\" fill=\"#000000\">Sigmoid</text>\n",
       "</g>\n",
       "<!-- /outputs/5&#45;&gt;/outputs/6 -->\n",
       "<g id=\"edge1\" class=\"edge\">\n",
       "<title>/outputs/5&#45;&gt;/outputs/6</title>\n",
       "<path fill=\"none\" stroke=\"#000000\" d=\"M54.4,-18C62.39,-18 71.31,-18 79.82,-18\"/>\n",
       "<polygon fill=\"#000000\" stroke=\"#000000\" points=\"79.92,-21.5 89.92,-18 79.92,-14.5 79.92,-21.5\"/>\n",
       "</g>\n",
       "<!-- /outputs/7 -->\n",
       "<g id=\"node3\" class=\"node\">\n",
       "<title>/outputs/7</title>\n",
       "<polygon fill=\"#e8e8e8\" stroke=\"#000000\" points=\"234,-36 180,-36 180,0 234,0 234,-36\"/>\n",
       "<text text-anchor=\"start\" x=\"194\" y=\"-15\" font-family=\"Times\" font-size=\"10.00\" fill=\"#000000\">Linear</text>\n",
       "</g>\n",
       "<!-- /outputs/6&#45;&gt;/outputs/7 -->\n",
       "<g id=\"edge2\" class=\"edge\">\n",
       "<title>/outputs/6&#45;&gt;/outputs/7</title>\n",
       "<path fill=\"none\" stroke=\"#000000\" d=\"M144.4,-18C152.39,-18 161.31,-18 169.82,-18\"/>\n",
       "<polygon fill=\"#000000\" stroke=\"#000000\" points=\"169.92,-21.5 179.92,-18 169.92,-14.5 169.92,-21.5\"/>\n",
       "</g>\n",
       "</g>\n",
       "</svg>\n"
      ],
      "text/plain": [
       "<graphviz.graphs.Digraph at 0x7f304541e140>"
      ]
     },
     "execution_count": 25,
     "metadata": {},
     "output_type": "execute_result"
    }
   ],
   "source": [
    "hl.build_graph(model, torch.zeros([hidden_layer_size, input_size])).build_dot()"
   ]
  },
  {
   "cell_type": "code",
   "execution_count": 26,
   "id": "70434975-000a-4e80-b3a3-74d0031ebfa3",
   "metadata": {},
   "outputs": [],
   "source": [
    "learning_rate = 0.001\n",
    "optimizer = torch.optim.Adam(model.parameters(), lr=learning_rate)"
   ]
  },
  {
   "cell_type": "code",
   "execution_count": 27,
   "id": "d1c8fa47-c17f-4d34-b5e4-079fc6ded923",
   "metadata": {},
   "outputs": [
    {
     "name": "stdout",
     "output_type": "stream",
     "text": [
      "Epoch [1]/[0], Step: 1/6, Loss: 22192600.0000\n",
      "Epoch [1]/[0], Step: 2/6, Loss: 23835620.0000\n",
      "Epoch [1]/[0], Step: 3/6, Loss: 23204154.0000\n",
      "Epoch [1]/[0], Step: 4/6, Loss: 26117954.0000\n",
      "Epoch [1]/[0], Step: 5/6, Loss: 22848374.0000\n",
      "Epoch [1]/[0], Step: 6/6, Loss: 25023710.0000\n",
      "Epoch [2001]/[2000], Step: 1/6, Loss: 21300264.0000\n",
      "Epoch [2001]/[2000], Step: 2/6, Loss: 22565868.0000\n",
      "Epoch [2001]/[2000], Step: 3/6, Loss: 25313946.0000\n",
      "Epoch [2001]/[2000], Step: 4/6, Loss: 23197498.0000\n",
      "Epoch [2001]/[2000], Step: 5/6, Loss: 22308490.0000\n",
      "Epoch [2001]/[2000], Step: 6/6, Loss: 23208524.0000\n",
      "Epoch [4001]/[4000], Step: 1/6, Loss: 23913940.0000\n",
      "Epoch [4001]/[4000], Step: 2/6, Loss: 20359596.0000\n",
      "Epoch [4001]/[4000], Step: 3/6, Loss: 20609514.0000\n",
      "Epoch [4001]/[4000], Step: 4/6, Loss: 19137094.0000\n",
      "Epoch [4001]/[4000], Step: 5/6, Loss: 25006428.0000\n",
      "Epoch [4001]/[4000], Step: 6/6, Loss: 24176380.0000\n",
      "Epoch [6001]/[6000], Step: 1/6, Loss: 23576108.0000\n",
      "Epoch [6001]/[6000], Step: 2/6, Loss: 18625856.0000\n",
      "Epoch [6001]/[6000], Step: 3/6, Loss: 23000986.0000\n",
      "Epoch [6001]/[6000], Step: 4/6, Loss: 21906216.0000\n",
      "Epoch [6001]/[6000], Step: 5/6, Loss: 20190426.0000\n",
      "Epoch [6001]/[6000], Step: 6/6, Loss: 20590448.0000\n",
      "Epoch [8001]/[8000], Step: 1/6, Loss: 22441208.0000\n",
      "Epoch [8001]/[8000], Step: 2/6, Loss: 18976368.0000\n",
      "Epoch [8001]/[8000], Step: 3/6, Loss: 22638126.0000\n",
      "Epoch [8001]/[8000], Step: 4/6, Loss: 18846860.0000\n",
      "Epoch [8001]/[8000], Step: 5/6, Loss: 20882028.0000\n",
      "Epoch [8001]/[8000], Step: 6/6, Loss: 19260876.0000\n",
      "Epoch [10001]/[10000], Step: 1/6, Loss: 19330988.0000\n",
      "Epoch [10001]/[10000], Step: 2/6, Loss: 21813360.0000\n",
      "Epoch [10001]/[10000], Step: 3/6, Loss: 19242292.0000\n",
      "Epoch [10001]/[10000], Step: 4/6, Loss: 20550152.0000\n",
      "Epoch [10001]/[10000], Step: 5/6, Loss: 18590074.0000\n",
      "Epoch [10001]/[10000], Step: 6/6, Loss: 18943204.0000\n"
     ]
    }
   ],
   "source": [
    "total_step = len(train_loader)\n",
    "\n",
    "num_epochs = 10000\n",
    "\n",
    "for epoch in range(num_epochs + 1):\n",
    "    for i, (features, target) in enumerate(train_loader):\n",
    "        \n",
    "        output = model(features)\n",
    "        loss = loss_fn(output, target)\n",
    "        \n",
    "        optimizer.zero_grad()\n",
    "        \n",
    "        loss.backward()\n",
    "        \n",
    "        optimizer.step()\n",
    "        \n",
    "        if epoch % 2000 == 0:\n",
    "            print(f\"Epoch [{epoch + 1}]/[{epoch}], Step: {i+1}/{total_step}, Loss: {loss.item():.4f}\") \n",
    "            "
   ]
  },
  {
   "cell_type": "code",
   "execution_count": 28,
   "id": "2feec007-3724-4d29-bc5d-900b1d15805c",
   "metadata": {},
   "outputs": [],
   "source": [
    "model.eval()\n",
    "\n",
    "with torch.no_grad():\n",
    "    y_pred = model(x_test_tensor)"
   ]
  },
  {
   "cell_type": "code",
   "execution_count": 29,
   "id": "c853a631-999e-442f-91c9-ddeda01d8c79",
   "metadata": {},
   "outputs": [
    {
     "data": {
      "text/plain": [
       "registered    3488.000000\n",
       "holiday          0.000000\n",
       "weekday          1.000000\n",
       "weathersit       1.000000\n",
       "temp            18.996653\n",
       "atemp           22.853350\n",
       "season_1         0.000000\n",
       "season_2         0.000000\n",
       "season_3         0.000000\n",
       "season_4         1.000000\n",
       "Name: 297, dtype: float64"
      ]
     },
     "execution_count": 29,
     "metadata": {},
     "output_type": "execute_result"
    }
   ],
   "source": [
    "sample = x_test.iloc[21]\n",
    "sample"
   ]
  },
  {
   "cell_type": "code",
   "execution_count": 30,
   "id": "85fe6d11-7467-4292-ae11-d6af2200bf3c",
   "metadata": {},
   "outputs": [
    {
     "data": {
      "text/plain": [
       "tensor([3.4880e+03, 0.0000e+00, 1.0000e+00, 1.0000e+00, 1.8997e+01, 2.2853e+01,\n",
       "        0.0000e+00, 0.0000e+00, 0.0000e+00, 1.0000e+00])"
      ]
     },
     "execution_count": 30,
     "metadata": {},
     "output_type": "execute_result"
    }
   ],
   "source": [
    "sample_tensor = torch.tensor(sample, dtype=torch.float)\n",
    "sample_tensor"
   ]
  },
  {
   "cell_type": "code",
   "execution_count": 31,
   "id": "f9e8aa02-ebc3-4b45-a736-9f3a6db4f50c",
   "metadata": {},
   "outputs": [
    {
     "name": "stdout",
     "output_type": "stream",
     "text": [
      "Predicted:  480.260986328125\n",
      "Actual:  cnt    4187\n",
      "Name: 297, dtype: int64\n"
     ]
    }
   ],
   "source": [
    "with torch.no_grad():\n",
    "    y_pred = model(sample_tensor)\n",
    "    \n",
    "print(\"Predicted: \", y_pred.item())\n",
    "print(\"Actual: \", y_test.iloc[21])"
   ]
  },
  {
   "cell_type": "code",
   "execution_count": 32,
   "id": "76dc3060-ca4e-46d3-aae4-9c88d1b95941",
   "metadata": {},
   "outputs": [],
   "source": [
    "with torch.no_grad():\n",
    "    y_pred_tensor = model(x_test_tensor)"
   ]
  },
  {
   "cell_type": "code",
   "execution_count": 33,
   "id": "1261d3f0-28c9-40aa-944d-f0a69594758f",
   "metadata": {},
   "outputs": [
    {
     "data": {
      "text/plain": [
       "(146, 1)"
      ]
     },
     "execution_count": 33,
     "metadata": {},
     "output_type": "execute_result"
    }
   ],
   "source": [
    "y_pred = y_pred_tensor.detach().numpy()\n",
    "y_pred.shape"
   ]
  },
  {
   "cell_type": "code",
   "execution_count": 34,
   "id": "fbdefe9c-a52b-426b-b220-5ab49a2ffc47",
   "metadata": {},
   "outputs": [
    {
     "data": {
      "text/plain": [
       "(146, 1)"
      ]
     },
     "execution_count": 34,
     "metadata": {},
     "output_type": "execute_result"
    }
   ],
   "source": [
    "y_test.values.shape"
   ]
  },
  {
   "cell_type": "code",
   "execution_count": 35,
   "id": "0844ae0c-3f02-42c9-8d15-76475f01e94c",
   "metadata": {},
   "outputs": [
    {
     "data": {
      "text/html": [
       "<div>\n",
       "<style scoped>\n",
       "    .dataframe tbody tr th:only-of-type {\n",
       "        vertical-align: middle;\n",
       "    }\n",
       "\n",
       "    .dataframe tbody tr th {\n",
       "        vertical-align: top;\n",
       "    }\n",
       "\n",
       "    .dataframe thead th {\n",
       "        text-align: right;\n",
       "    }\n",
       "</style>\n",
       "<table border=\"1\" class=\"dataframe\">\n",
       "  <thead>\n",
       "    <tr style=\"text-align: right;\">\n",
       "      <th></th>\n",
       "      <th>actual</th>\n",
       "      <th>predicted</th>\n",
       "    </tr>\n",
       "  </thead>\n",
       "  <tbody>\n",
       "    <tr>\n",
       "      <th>118</th>\n",
       "      <td>5409</td>\n",
       "      <td>480.261017</td>\n",
       "    </tr>\n",
       "    <tr>\n",
       "      <th>111</th>\n",
       "      <td>7335</td>\n",
       "      <td>480.261017</td>\n",
       "    </tr>\n",
       "    <tr>\n",
       "      <th>1</th>\n",
       "      <td>4748</td>\n",
       "      <td>480.261017</td>\n",
       "    </tr>\n",
       "    <tr>\n",
       "      <th>70</th>\n",
       "      <td>5312</td>\n",
       "      <td>480.261017</td>\n",
       "    </tr>\n",
       "    <tr>\n",
       "      <th>18</th>\n",
       "      <td>4714</td>\n",
       "      <td>480.261017</td>\n",
       "    </tr>\n",
       "    <tr>\n",
       "      <th>48</th>\n",
       "      <td>7765</td>\n",
       "      <td>480.261017</td>\n",
       "    </tr>\n",
       "    <tr>\n",
       "      <th>44</th>\n",
       "      <td>6691</td>\n",
       "      <td>480.261017</td>\n",
       "    </tr>\n",
       "    <tr>\n",
       "      <th>65</th>\n",
       "      <td>7591</td>\n",
       "      <td>480.261017</td>\n",
       "    </tr>\n",
       "    <tr>\n",
       "      <th>77</th>\n",
       "      <td>7504</td>\n",
       "      <td>480.261017</td>\n",
       "    </tr>\n",
       "    <tr>\n",
       "      <th>81</th>\n",
       "      <td>7446</td>\n",
       "      <td>480.261017</td>\n",
       "    </tr>\n",
       "  </tbody>\n",
       "</table>\n",
       "</div>"
      ],
      "text/plain": [
       "     actual   predicted\n",
       "118    5409  480.261017\n",
       "111    7335  480.261017\n",
       "1      4748  480.261017\n",
       "70     5312  480.261017\n",
       "18     4714  480.261017\n",
       "48     7765  480.261017\n",
       "44     6691  480.261017\n",
       "65     7591  480.261017\n",
       "77     7504  480.261017\n",
       "81     7446  480.261017"
      ]
     },
     "execution_count": 35,
     "metadata": {},
     "output_type": "execute_result"
    }
   ],
   "source": [
    "compare_df = pd.DataFrame({'actual': np.squeeze(y_test.values), 'predicted': np.squeeze(y_pred)})\n",
    "compare_df.sample(10)"
   ]
  },
  {
   "cell_type": "code",
   "execution_count": 36,
   "id": "4b295faf-c4ee-4277-ac04-0a5820c1134d",
   "metadata": {},
   "outputs": [
    {
     "data": {
      "text/plain": [
       "-4.791610213823479"
      ]
     },
     "execution_count": 36,
     "metadata": {},
     "output_type": "execute_result"
    }
   ],
   "source": [
    "sklearn.metrics.r2_score(y_test, y_pred)"
   ]
  },
  {
   "cell_type": "code",
   "execution_count": 37,
   "id": "6fcf6c16-5ebb-4bac-a7aa-b44413ab4f35",
   "metadata": {},
   "outputs": [
    {
     "data": {
      "image/png": "[encoded data removed]",
      "text/plain": [
       "<Figure size 600x600 with 1 Axes>"
      ]
     },
     "metadata": {},
     "output_type": "display_data"
    }
   ],
   "source": [
    "plt.figure(figsize=(6,6))\n",
    "\n",
    "plt.scatter(y_pred, y_test.values, s=100)\n",
    "\n",
    "plt.xlabel('Actual values')\n",
    "plt.ylabel('Predicted values')\n",
    "\n",
    "plt.show()"
   ]
  }
 ],
 "metadata": {
  "kernelspec": {
   "display_name": "Python 3 (ipykernel)",
   "language": "python",
   "name": "python3"
  },
  "language_info": {
   "codemirror_mode": {
    "name": "ipython",
    "version": 3
   },
   "file_extension": ".py",
   "mimetype": "text/x-python",
   "name": "python",
   "nbconvert_exporter": "python",
   "pygments_lexer": "ipython3",
   "version": "3.10.0"
  }
 },
 "nbformat": 4,
 "nbformat_minor": 5
}
